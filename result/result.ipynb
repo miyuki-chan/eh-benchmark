{
 "cells": [
  {
   "cell_type": "code",
   "execution_count": 1,
   "metadata": {
    "collapsed": true
   },
   "outputs": [],
   "source": [
    "# Import some modules\n",
    "import pandas as pd\n",
    "import numpy as np\n",
    "import matplotlib.pyplot as plt\n",
    "# Set matplotlib style and rendering type\n",
    "plt.style.use('ggplot')\n",
    "%matplotlib inline"
   ]
  },
  {
   "cell_type": "code",
   "execution_count": 2,
   "metadata": {
    "collapsed": true
   },
   "outputs": [],
   "source": [
    "# Define functions to read benchmark results\n",
    "\n",
    "def read_file(path):\n",
    "    \"\"\"Read single CSV file, calculate number of cycles per iteration and number of\n",
    "       instructions per iteration\"\"\"\n",
    "    data = pd.read_csv(path)\n",
    "    data['cyc_per_iter'] = data['tot_cyc'] / data['iter']\n",
    "    data['insn_per_iter'] = data['tot_insn'] / data['iter']\n",
    "    data.set_index('test', inplace=True)\n",
    "    return data\n",
    "\n",
    "# Number of individual runs of each benchmark\n",
    "NUM_RUNS = 5\n",
    "\n",
    "def read_files(path):\n",
    "    \"\"\"Read data from several runs and concatenate them into single Pandas dataframe\"\"\"\n",
    "    frames = []\n",
    "    for i in range(0, NUM_RUNS):\n",
    "        frames.append(read_file('{}_{}.csv'.format(path, i)))\n",
    "    res = pd.concat(frames)\n",
    "    return res"
   ]
  },
  {
   "cell_type": "code",
   "execution_count": 3,
   "metadata": {
    "collapsed": true
   },
   "outputs": [],
   "source": [
    "# Read benchmark results from current directory\n",
    "classes = read_files('classes')\n",
    "hierarchy = read_files('hierarchy')\n",
    "calls = read_files('calls')\n",
    "objc = read_files('objc')"
   ]
  },
  {
   "cell_type": "code",
   "execution_count": 4,
   "metadata": {
    "collapsed": true
   },
   "outputs": [],
   "source": [
    "def group_and_plot(data, xlabel=None):\n",
    "    \"\"\"Group the data collected in several independent runs, calculate\n",
    "       median and standard deviation\"\"\"\n",
    "    grouped = data.reset_index().groupby('test')['cyc_per_iter'].agg([np.median, np.std])\n",
    "    f, ax = plt.subplots()\n",
    "    ax.errorbar(grouped.index, grouped['median'], grouped['std'])\n",
    "    ax.set_ylim(0, None)\n",
    "    ax.set_ylabel('cycles')\n",
    "    if xlabel is not None:\n",
    "        ax.set_xlabel(xlabel)"
   ]
  },
  {
   "cell_type": "markdown",
   "metadata": {},
   "source": [
    "## System under test\n",
    "\n",
    "- CPU: Intel(R) Core(TM) i7-3770K CPU @ 3.50GHz\n",
    "- RAM: 16 GB\n",
    "- OS: Linux 3.16.0-4-amd64 #1 SMP Debian 3.16.7-ckt11-1+deb8u4 (2015-09-19) x86_64 GNU/Linux\n",
    "- glibc: 2.19-18+deb8u1\n",
    "- gcc version 5.2.0 (GCC)"
   ]
  },
  {
   "cell_type": "markdown",
   "metadata": {},
   "source": [
    "## Benchmark results"
   ]
  },
  {
   "cell_type": "markdown",
   "metadata": {},
   "source": [
    "### Benchmark of exception handler search (unrelated classes)\n",
    "\n",
    "Consider this testcase:\n",
    "\n",
    "    static volatile int v;\n",
    "\n",
    "    // Define N=50 empty classes\n",
    "    namespace {\n",
    "    class class_0 { };\n",
    "    // ... \n",
    "    class class_49 { };\n",
    "    } // anon. namespace\n",
    "\n",
    "    // Define N functions like this:\n",
    "    void test_throw_0()\n",
    "    {\n",
    "        try {\n",
    "            throw class_0(); // Each function throws an exception of\n",
    "                             // it's own class, class_0 through class_49\n",
    "        } catch(class_49&) {\n",
    "            // The handlers are identical across functions\n",
    "            v = 49;\n",
    "        } catch(class_48&) {\n",
    "            v = 48;\n",
    "    // ...\n",
    "        } catch(class_0&) {\n",
    "            v = 0;\n",
    "        }\n",
    "    }   \n",
    "\n",
    "Now, we measure the number of cycles spent in `test_throw_<i>`, depending on `i`, which determines the index of the catch clause containing the correct handler."
   ]
  },
  {
   "cell_type": "code",
   "execution_count": 5,
   "metadata": {
    "collapsed": false
   },
   "outputs": [
    {
     "data": {
      "image/png": "[encoded data removed]",
      "text/plain": [
       "<matplotlib.figure.Figure at 0x7f36a4144f10>"
      ]
     },
     "metadata": {},
     "output_type": "display_data"
    }
   ],
   "source": [
    "group_and_plot(classes)"
   ]
  },
  {
   "cell_type": "markdown",
   "metadata": {},
   "source": [
    "### Benchmark of exception handler search (class hierarchy)\n",
    "\n",
    "Same as above, but classes are organized into hierarchy:\n",
    "\n",
    "    namespace {\n",
    "    class class_0 { };\n",
    "    class class_1 : public class_0 { };\n",
    "    class class_2 : public class_2 { };\n",
    "    // ... \n",
    "    }"
   ]
  },
  {
   "cell_type": "code",
   "execution_count": 6,
   "metadata": {
    "collapsed": false
   },
   "outputs": [
    {
     "data": {
      "image/png": "[encoded data removed]",
      "text/plain": [
       "<matplotlib.figure.Figure at 0x7f36745378d0>"
      ]
     },
     "metadata": {},
     "output_type": "display_data"
    }
   ],
   "source": [
    "group_and_plot(hierarchy)"
   ]
  },
  {
   "cell_type": "markdown",
   "metadata": {},
   "source": [
    "### Benchmark of stack unwinding\n",
    "\n",
    "Consider this testcase:\n",
    "\n",
    "    static volatile int v;\n",
    "\n",
    "    __attribute__((noinline)) void call_0()\n",
    "    {\n",
    "        throw 1;\n",
    "    }\n",
    "\n",
    "    __attribute__((noinline)) void call_1()\n",
    "    {\n",
    "        v = 0;\n",
    "        call_0();\n",
    "        v = 1;      // Prevent tail call optimization\n",
    "    }\n",
    "\n",
    "    // ...\n",
    "\n",
    "    __attribute__((noinline)) void call_9()\n",
    "    {\n",
    "        v = 8;\n",
    "        call_8();\n",
    "        v = 9;\n",
    "    }\n",
    "\n",
    "    void test_call_0()\n",
    "    {\n",
    "        try {\n",
    "            throw 1; // Exception is handled in the same function\n",
    "        } catch(int) { }\n",
    "    }\n",
    "\n",
    "    void test_call_1()\n",
    "    {\n",
    "        try {\n",
    "            call_0();\n",
    "        } catch(int) { }\n",
    "    }\n",
    "    \n",
    "    // ...\n",
    "\n",
    "    void test_call_9()\n",
    "    {\n",
    "        try {\n",
    "            call_9();\n",
    "        } catch(int) { }\n",
    "    }\n",
    "    \n",
    "We measure the number of cycles spent in `test_call_<i>`."
   ]
  },
  {
   "cell_type": "code",
   "execution_count": 7,
   "metadata": {
    "collapsed": false
   },
   "outputs": [
    {
     "data": {
      "image/png": "[encoded data removed]",
      "text/plain": [
       "<matplotlib.figure.Figure at 0x7f3674414d10>"
      ]
     },
     "metadata": {},
     "output_type": "display_data"
    }
   ],
   "source": [
    "group_and_plot(calls, 'frames')"
   ]
  },
  {
   "cell_type": "markdown",
   "metadata": {},
   "source": [
    "### Comparison of C++ and Objective C exception handling performance\n",
    "\n",
    "Testcase for C++ (already mentioned above):\n",
    "\n",
    "    void test_call_0()\n",
    "    {\n",
    "        try {\n",
    "            throw 1;\n",
    "        } catch(int) { }\n",
    "    }\n",
    "    \n",
    "Testcase for Objective C:\n",
    "\n",
    "    void objc_test()\n",
    "    {\n",
    "        @try {\n",
    "            @throw nil;\n",
    "        } @catch(id ex) { }\n",
    "    }\n",
    "    \n",
    "In reality Objective C will have slightly worse performance because exception object must be allocated separately (G++ stores an exception inside the structure allocated by the language support library, while GNU Objective C stores a pointer in that structure and requires a bit less bookkeeping). Performance drop will depend on the allocator being used, but should be insignificant."
   ]
  },
  {
   "cell_type": "code",
   "execution_count": 8,
   "metadata": {
    "collapsed": false
   },
   "outputs": [
    {
     "data": {
      "image/png": "[encoded data removed]",
      "text/plain": [
       "<matplotlib.figure.Figure at 0x7f36743eded0>"
      ]
     },
     "metadata": {},
     "output_type": "display_data"
    }
   ],
   "source": [
    "f, ax = plt.subplots()\n",
    "ax.boxplot([calls.ix[0, 'cyc_per_iter'], objc.ix[0, 'cyc_per_iter']], labels=['C++', 'Objective C'])\n",
    "ax.set_ylim(0, None)\n",
    "ax.set_ylabel('cycles')\n",
    "None"
   ]
  },
  {
   "cell_type": "markdown",
   "metadata": {},
   "source": [
    "## References\n",
    "1. [Itanium C++ ABI: Exception Handling](https://mentorembedded.github.io/cxx-abi/abi-eh.html)\n",
    "2. [System V Application Binary Interface. AMD64 Architecture Processor Supplement](http://www.x86-64.org/documentation/abi.pdf), [v. 0.99.7](http://www.x86-64.org/documentation/abi-0.99.7.pdf)\n",
    "3. [DWARF Debugging Information Format. Version 4](http://dwarfstd.org/doc/DWARF4.pdf)\n",
    "4. Posts on exception table formats by Ian Lance Taylor:\n",
    " - [.eh_frame](http://www.airs.com/blog/archives/460)\n",
    " - [.eh_frame_hdr](http://www.airs.com/blog/archives/462)\n",
    " - [.gcc_except_table](http://www.airs.com/blog/archives/464)\n",
    "6. [Exception Handling in LLVM](http://llvm.org/docs/ExceptionHandling.html)"
   ]
  }
 ],
 "metadata": {
  "kernelspec": {
   "display_name": "Python 2",
   "language": "python",
   "name": "python2"
  },
  "language_info": {
   "codemirror_mode": {
    "name": "ipython",
    "version": 2
   },
   "file_extension": ".py",
   "mimetype": "text/x-python",
   "name": "python",
   "nbconvert_exporter": "python",
   "pygments_lexer": "ipython2",
   "version": "2.7.9"
  }
 },
 "nbformat": 4,
 "nbformat_minor": 0
}
